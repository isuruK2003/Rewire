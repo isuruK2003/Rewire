{
  "cells": [
    {
      "cell_type": "markdown",
      "metadata": {
        "id": "view-in-github",
        "colab_type": "text"
      },
      "source": [
        "<a href=\"https://colab.research.google.com/github/isuruK2003/SentimentAnalysis/blob/main/sentiment_analysis_with_logistics_regression.ipynb\" target=\"_parent\"><img src=\"https://colab.research.google.com/assets/colab-badge.svg\" alt=\"Open In Colab\"/></a>"
      ]
    },
    {
      "cell_type": "markdown",
      "metadata": {
        "id": "YVrbp1T-feb1"
      },
      "source": [
        "## Sentiment Analysis With Logistics Regression"
      ]
    },
    {
      "cell_type": "markdown",
      "metadata": {
        "id": "-MtM51Q5feb3"
      },
      "source": [
        "### 1) Importing Data"
      ]
    },
    {
      "cell_type": "code",
      "execution_count": null,
      "metadata": {
        "id": "naRSj6kzfeb5"
      },
      "outputs": [],
      "source": [
        "from os import getcwd\n",
        "import nltk\n",
        "from nltk.corpus import twitter_samples"
      ]
    },
    {
      "cell_type": "code",
      "execution_count": null,
      "metadata": {
        "id": "B2Nrsoq0feb7",
        "outputId": "c3bf8904-aa9e-48d7-c5bb-a1c9dda492bc"
      },
      "outputs": [
        {
          "name": "stderr",
          "output_type": "stream",
          "text": [
            "[nltk_data] Downloading package twitter_samples to\n",
            "[nltk_data]     C:\\Users\\DELL\\AppData\\Roaming\\nltk_data...\n",
            "[nltk_data]   Package twitter_samples is already up-to-date!\n",
            "[nltk_data] Downloading package stopwords to\n",
            "[nltk_data]     C:\\Users\\DELL\\AppData\\Roaming\\nltk_data...\n",
            "[nltk_data]   Package stopwords is already up-to-date!\n"
          ]
        },
        {
          "data": {
            "text/plain": [
              "True"
            ]
          },
          "execution_count": 20,
          "metadata": {},
          "output_type": "execute_result"
        }
      ],
      "source": [
        "nltk.download('twitter_samples')\n",
        "nltk.download('stopwords')"
      ]
    },
    {
      "cell_type": "code",
      "execution_count": null,
      "metadata": {
        "id": "ngImUAmIfeb8"
      },
      "outputs": [],
      "source": [
        "filePath = f\"{getcwd()}/../tmp2/\"\n",
        "nltk.data.path.append(filePath)"
      ]
    },
    {
      "cell_type": "code",
      "execution_count": null,
      "metadata": {
        "id": "OMl-sIWofeb8"
      },
      "outputs": [],
      "source": [
        "# select the set of positive and negative tweets\n",
        "all_positive_tweets = twitter_samples.strings('positive_tweets.json')\n",
        "all_negative_tweets = twitter_samples.strings('negative_tweets.json')"
      ]
    },
    {
      "cell_type": "code",
      "execution_count": null,
      "metadata": {
        "id": "8ZktLiuJfeb9"
      },
      "outputs": [],
      "source": [
        "# split the data into two pieces, one for training and one for testing (validation set)\n",
        "test_pos = all_positive_tweets[4000:]\n",
        "train_pos = all_positive_tweets[:4000]\n",
        "test_neg = all_negative_tweets[4000:]\n",
        "train_neg = all_negative_tweets[:4000]\n",
        "\n",
        "train_x = train_pos + train_neg\n",
        "test_x = test_pos + test_neg"
      ]
    },
    {
      "cell_type": "code",
      "execution_count": null,
      "metadata": {
        "id": "XEw4hMOhfeb9"
      },
      "outputs": [],
      "source": [
        "# combine positive and negative labels\n",
        "train_y = np.append(np.ones((len(train_pos), 1)), np.zeros((len(train_neg), 1)), axis=0)\n",
        "test_y = np.append(np.ones((len(test_pos), 1)), np.zeros((len(test_neg), 1)), axis=0)"
      ]
    },
    {
      "cell_type": "markdown",
      "metadata": {
        "id": "lqy9Qlm0feb-"
      },
      "source": [
        "### 2) Data Processing"
      ]
    },
    {
      "cell_type": "code",
      "execution_count": null,
      "metadata": {
        "id": "NihBJPRWfeb-"
      },
      "outputs": [],
      "source": [
        "import re\n",
        "import string\n",
        "\n",
        "from nltk.corpus import stopwords\n",
        "from nltk.stem import PorterStemmer\n",
        "from nltk.tokenize import TweetTokenizer"
      ]
    },
    {
      "cell_type": "code",
      "execution_count": null,
      "metadata": {
        "id": "s_05nYzSfeb_"
      },
      "outputs": [],
      "source": [
        "def process_tweet(tweet):\n",
        "    stemmer = PorterStemmer()\n",
        "    stopwords_english = stopwords.words('english') # remove stock market tickers like $GE\n",
        "    tweet = re.sub(r'\\$\\w*', '', tweet) # remove old style retweet text \"RT\"\n",
        "    tweet = re.sub(r'^RT[\\s]+', '', tweet) # remove hyperlinks\n",
        "    tweet = re.sub(r'https?://[^\\s\\n\\r]+', '', tweet) # remove hashtags\n",
        "    tweet = re.sub(r'#', '', tweet) # only removing the hash # sign from the word\n",
        "    # tokenize tweets\n",
        "    tokenizer = TweetTokenizer(preserve_case=False, strip_handles=True, reduce_len=True)\n",
        "    tweet_tokens = tokenizer.tokenize(tweet)\n",
        "\n",
        "    tweets_clean = []\n",
        "    for word in tweet_tokens:\n",
        "        if (word not in stopwords_english and  # remove stopwords\n",
        "                word not in string.punctuation):  # remove punctuation\n",
        "            stem_word = stemmer.stem(word)  # stemming word\n",
        "            tweets_clean.append(stem_word)\n",
        "    return tweets_clean"
      ]
    },
    {
      "cell_type": "code",
      "execution_count": null,
      "metadata": {
        "id": "8S1a_vh3feb_"
      },
      "outputs": [],
      "source": [
        "def build_freqs(tweets, ys):\n",
        "    yslist = np.squeeze(ys).tolist()\n",
        "    freqs = {}\n",
        "    for y, tweet in zip(yslist, tweets):\n",
        "        for word in process_tweet(tweet):\n",
        "            pair = (word, y)\n",
        "            if pair in freqs:\n",
        "                freqs[pair] += 1\n",
        "            else:\n",
        "                freqs[pair] = 1\n",
        "    return freqs"
      ]
    },
    {
      "cell_type": "code",
      "execution_count": null,
      "metadata": {
        "id": "MXpNFOiZfeb_",
        "outputId": "332bfdfd-8b5e-4129-b326-a09adb932ba3"
      },
      "outputs": [
        {
          "name": "stdout",
          "output_type": "stream",
          "text": [
            "type(freqs) = <class 'dict'>\n",
            "len(freqs) = 11427\n",
            "This is an example of a positive tweet: \n",
            " #FollowFriday @France_Inte @PKuchly57 @Milipol_Paris for being top engaged members in my community this week :)\n",
            "\n",
            "This is an example of the processed version of the tweet: \n",
            " ['followfriday', 'top', 'engag', 'member', 'commun', 'week', ':)']\n"
          ]
        }
      ],
      "source": [
        "# create frequency dictionary\n",
        "freqs = build_freqs(train_x, train_y)\n",
        "\n",
        "# check the output\n",
        "print(\"type(freqs) = \" + str(type(freqs)))\n",
        "print(\"len(freqs) = \" + str(len(freqs.keys())))\n",
        "\n",
        "# test the function below\n",
        "print('This is an example of a positive tweet: \\n', train_x[0])\n",
        "print('\\nThis is an example of the processed version of the tweet: \\n', process_tweet(train_x[0]))"
      ]
    },
    {
      "cell_type": "markdown",
      "metadata": {
        "id": "v2K-ZKiUfecA"
      },
      "source": [
        "### 3) Sigmoid Function"
      ]
    },
    {
      "cell_type": "markdown",
      "metadata": {
        "id": "V398GemvfecA"
      },
      "source": [
        "- The sigmoid function is defined as:\n",
        "\n",
        "$$ h(z) = \\frac{1}{1+\\exp^{-z}} \\tag{1}$$\n",
        "\n",
        "- It maps the input 'z' to a value that ranges between 0 and 1, and so it can be treated as a probability."
      ]
    },
    {
      "cell_type": "code",
      "execution_count": null,
      "metadata": {
        "id": "4y8coHGjfecA"
      },
      "outputs": [],
      "source": [
        "import numpy as np\n",
        "import matplotlib.pyplot as plt"
      ]
    },
    {
      "cell_type": "code",
      "execution_count": null,
      "metadata": {
        "id": "u1Rv0NxWfecA"
      },
      "outputs": [],
      "source": [
        "def sigmoid(z):\n",
        "    return 1 / (1 + np.exp(-z))"
      ]
    },
    {
      "cell_type": "code",
      "execution_count": null,
      "metadata": {
        "id": "7mxTTP_HfecB",
        "outputId": "f78aabaf-ed24-4738-8421-9d6799149434"
      },
      "outputs": [
        {
          "data": {
            "image/png": "[encoded data removed]",
            "text/plain": [
              "<Figure size 640x480 with 1 Axes>"
            ]
          },
          "metadata": {},
          "output_type": "display_data"
        }
      ],
      "source": [
        "# Generate x values using NumPy\n",
        "xs = np.linspace(-10, 10, 100)  # 100 evenly spaced points from -50 to 50\n",
        "ys = sigmoid(xs)\n",
        "\n",
        "# Plot the data\n",
        "plt.plot(xs, ys, color=\"red\", linewidth=1)\n",
        "plt.xlabel(\"x\")\n",
        "plt.ylabel(\"y\")\n",
        "plt.title(\"Sigmoid Function\")\n",
        "plt.grid()\n",
        "plt.show()"
      ]
    },
    {
      "cell_type": "markdown",
      "metadata": {
        "id": "Sfk_jWLCfecB"
      },
      "source": [
        "### 4) Cost function and Gradient"
      ]
    },
    {
      "cell_type": "markdown",
      "metadata": {
        "id": "nDyFt-fRfecB"
      },
      "source": [
        "The cost function used for logistic regression is the average of the log loss across all training examples:\n",
        "\n",
        "$$J(\\theta) = -\\frac{1}{m} \\sum_{i=1}^m y^{(i)}\\log (h(z(\\theta)^{(i)})) + (1-y^{(i)})\\log (1-h(z(\\theta)^{(i)}))\\tag{5} $$\n",
        "* $m$ is the number of training examples\n",
        "* $y^{(i)}$ is the actual label of training example 'i'.\n",
        "* $h(z^{(i)})$ is the model's prediction for the training example 'i'.\n",
        "\n",
        "The loss function for a single training example is\n",
        "$$ Loss = -1 \\times \\left( y^{(i)}\\log (h(z(\\theta)^{(i)})) + (1-y^{(i)})\\log (1-h(z(\\theta)^{(i)})) \\right)$$\n",
        "\n",
        "* All the $h$ values are between 0 and 1, so the logs will be negative. That is the reason for the factor of -1 applied to the sum of the two loss terms.\n",
        "* Note that when the model predicts 1 ($h(z(\\theta)) = 1$) and the label 'y' is also 1, the loss for that training example is 0.\n",
        "* Similarly, when the model predicts 0 ($h(z(\\theta)) = 0$) and the actual label is also 0, the loss for that training example is 0.\n",
        "* However, when the model prediction is close to 1 ($h(z(\\theta)) = 0.9999$) and the label is 0, the second term of the log loss becomes a large negative number, which is then multiplied by the overall factor of -1 to convert it to a positive loss value. $-1 \\times (1 - 0) \\times log(1 - 0.9999) \\approx 9.2$ The closer the model prediction gets to 1, the larger the loss."
      ]
    },
    {
      "cell_type": "code",
      "execution_count": null,
      "metadata": {
        "id": "7ihWC8aPfecB"
      },
      "outputs": [],
      "source": [
        "def cost(y, h):\n",
        "    J = - y * np.log(h) - (1 - y) * np.log(1 - h)\n",
        "    return np.mean(J)"
      ]
    },
    {
      "cell_type": "markdown",
      "metadata": {
        "id": "8Wra1w9ZfecB"
      },
      "source": [
        "### 5) Extracting the Features"
      ]
    },
    {
      "cell_type": "markdown",
      "metadata": {
        "id": "uzWQ9TxmfecB"
      },
      "source": [
        "* Given a list of tweets, extract the features and store them in a matrix. You will extract two features.\n",
        "    * The first feature is the number of positive words in a tweet.\n",
        "    * The second feature is the number of negative words in a tweet.\n",
        "* Then train your logistic regression classifier on these features.\n",
        "* Test the classifier on a validation set."
      ]
    },
    {
      "cell_type": "code",
      "execution_count": null,
      "metadata": {
        "id": "UY1Va6lDfecB"
      },
      "outputs": [],
      "source": [
        "def extract_features(tweet, freqs, process_tweet=process_tweet):\n",
        "    '''\n",
        "    Input:\n",
        "        tweet: a string containing one tweet\n",
        "        freqs: a dictionary corresponding to the frequencies of each tuple (word, label)\n",
        "    Output:\n",
        "        x: a feature vector of dimension (1,3)\n",
        "    '''\n",
        "    word_l = process_tweet(tweet)\n",
        "    x = np.zeros(3)\n",
        "    x[0] = 1\n",
        "\n",
        "    for word in word_l:\n",
        "        x[1] += freqs[(word, 1.0)] if (word, 1.0) in freqs else 0\n",
        "        x[2] += freqs[(word, 0.0)] if (word, 0.0) in freqs else 0\n",
        "    x = x[None, :]\n",
        "\n",
        "    assert(x.shape == (1, 3))\n",
        "    return x"
      ]
    },
    {
      "cell_type": "code",
      "execution_count": null,
      "metadata": {
        "id": "VCmIL3IQfecC"
      },
      "outputs": [],
      "source": [
        "X = np.zeros((len(train_x), 3))  # 3 is the number of features from extract_features\n",
        "for i in range(len(train_x)):\n",
        "    X[i, :] = extract_features(train_x[i], freqs)\n",
        "\n",
        "# Training labels corresponding to X\n",
        "Y = np.array(train_y).reshape(-1, 1)  # Ensure Y is a column vector"
      ]
    },
    {
      "cell_type": "markdown",
      "metadata": {
        "id": "XxVuajLLfecC"
      },
      "source": [
        "### 6) Gradient Descent"
      ]
    },
    {
      "cell_type": "markdown",
      "metadata": {
        "id": "PlZMMj5HfecC"
      },
      "source": [
        "#### Update the weights\n",
        "\n",
        "To update weight vector $\\theta$, apply gradient descent to iteratively improve your model's predictions.  \n",
        "The gradient of the cost function $J$ with respect to one of the weights $\\theta_j$ is:\n",
        "\n",
        "$$\\nabla_{\\theta_j}J(\\theta) = \\frac{1}{m} \\sum_{i=1}^m(h^{(i)}-y^{(i)})x^{(i)}_j \\tag{5}$$\n",
        "* 'i' is the index across all 'm' training examples.\n",
        "* 'j' is the index of the weight $\\theta_j$, so $x^{(i)}_j$ is the feature associated with weight $\\theta_j$\n",
        "\n",
        "* To update the weight $\\theta_j$, adjust it by subtracting a fraction of the gradient determined by $\\alpha$:\n",
        "$$\\theta_j = \\theta_j - \\alpha \\times \\nabla_{\\theta_j}J(\\theta) $$\n",
        "* The learning rate $\\alpha$ is a value that we choose to control how big a single update will be.\n",
        "\n"
      ]
    },
    {
      "cell_type": "markdown",
      "metadata": {
        "id": "NFJBE-pBfecC"
      },
      "source": [
        "### Implementing gradient descent function.\n",
        "* The number of iterations 'num_iters\" is the number of times that you'll use the entire training set.\n",
        "* For each iteration, calculate the cost function using all training examples (there are 'm' training examples), and for all features.\n",
        "* Instead of updating a single weight $\\theta_i$ at a time, we can update all the weights in the column vector:  \n",
        "$$\\mathbf{\\theta} = \\begin{pmatrix}\n",
        "\\theta_0\n",
        "\\\\\n",
        "\\theta_1\n",
        "\\\\\n",
        "\\theta_2\n",
        "\\\\\n",
        "\\vdots\n",
        "\\\\\n",
        "\\theta_n\n",
        "\\end{pmatrix}$$\n",
        "* $\\mathbf{\\theta}$ has dimensions (n+1, 1), where 'n' is the number of features, and there is one more element for the bias term $\\theta_0$ (note that the corresponding feature value $\\mathbf{x_0}$ is 1).\n",
        "* The 'logits', 'z', are calculated by multiplying the feature matrix 'x' with the weight vector 'theta'.  $z = \\mathbf{x}\\mathbf{\\theta}$\n",
        "    * $\\mathbf{x}$ has dimensions (m, n+1)\n",
        "    * $\\mathbf{\\theta}$: has dimensions (n+1, 1)\n",
        "    * $\\mathbf{z}$: has dimensions (m, 1)\n",
        "* The prediction 'h', is calculated by applying the sigmoid to each element in 'z': $h(z) = sigmoid(z)$, and has dimensions (m,1).\n",
        "* The cost function $J$ is calculated by taking the dot product of the vectors 'y' and 'log(h)'.  Since both 'y' and 'h' are column vectors (m,1), transpose the vector to the left, so that matrix multiplication of a row vector with column vector performs the dot product.\n",
        "$$J = \\frac{-1}{m} \\times \\left(\\mathbf{y}^T \\cdot log(\\mathbf{h}) + \\mathbf{(1-y)}^T \\cdot log(\\mathbf{1-h}) \\right)$$\n",
        "* The update of theta is also vectorized.  Because the dimensions of $\\mathbf{x}$ are (m, n+1), and both $\\mathbf{h}$ and $\\mathbf{y}$ are (m, 1), we need to transpose the $\\mathbf{x}$ and place it on the left in order to perform matrix multiplication, which then yields the (n+1, 1) answer we need:\n",
        "$$\\mathbf{\\theta} = \\mathbf{\\theta} - \\frac{\\alpha}{m} \\times \\left( \\mathbf{x}^T \\cdot \\left( \\mathbf{h-y} \\right) \\right)$$"
      ]
    },
    {
      "cell_type": "code",
      "execution_count": null,
      "metadata": {
        "id": "7-XcNkGqfecC"
      },
      "outputs": [],
      "source": [
        "def gradientDescent(x, y, theta, alpha, num_iters):\n",
        "    '''\n",
        "    Input:\n",
        "        x: matrix of features which is (m,n+1)\n",
        "        y: corresponding labels of the input matrix x, dimensions (m,1)\n",
        "        theta: weight vector of dimension (n+1,1)\n",
        "        alpha: learning rate\n",
        "        num_iters: number of iterations you want to train your model for\n",
        "    Output:\n",
        "        J: the final cost\n",
        "        theta: final weight vector\n",
        "    '''\n",
        "\n",
        "    m = len(x)\n",
        "    j_list = []\n",
        "    for i in range(0, num_iters):\n",
        "        z = np.dot(x, theta)\n",
        "        h = sigmoid(z)\n",
        "        J = cost(y, h)\n",
        "        j_list.append(J)\n",
        "        grads = np.dot(x.T, (h - y))\n",
        "        theta = theta - (alpha / m) * grads\n",
        "        if i % 500 == 0:\n",
        "            print(f\"Epoch {i} : Cost = {J}\")\n",
        "\n",
        "    return j_list, theta"
      ]
    },
    {
      "cell_type": "code",
      "execution_count": null,
      "metadata": {
        "id": "SAuNbq22fecC",
        "outputId": "c9e92761-42cb-4328-f1f4-cdfa1a8585c2"
      },
      "outputs": [
        {
          "name": "stdout",
          "output_type": "stream",
          "text": [
            "Epoch 0 : Cost = 0.6931471805599454\n",
            "Epoch 500 : Cost = 0.3850158633066431\n",
            "Epoch 1000 : Cost = 0.27762430335535454\n",
            "Epoch 1500 : Cost = 0.22513495105657522\n",
            "Epoch 2000 : Cost = 0.19437922738837177\n",
            "Epoch 2500 : Cost = 0.17421555565256575\n",
            "Epoch 3000 : Cost = 0.15995415840187935\n",
            "Epoch 3500 : Cost = 0.1493040391065371\n",
            "Epoch 4000 : Cost = 0.1410207366814509\n",
            "Epoch 4500 : Cost = 0.13437236864047425\n",
            "Epoch 5000 : Cost = 0.12890113513003695\n",
            "Epoch 5500 : Cost = 0.12430624167503027\n",
            "Epoch 6000 : Cost = 0.12038196343497232\n",
            "Epoch 6500 : Cost = 0.1169828295479144\n",
            "Epoch 7000 : Cost = 0.11400304344792093\n",
            "Epoch 7500 : Cost = 0.11136379243960506\n",
            "Epoch 8000 : Cost = 0.1090051345498817\n",
            "Epoch 8500 : Cost = 0.1068806475550266\n",
            "Epoch 9000 : Cost = 0.10495380261452976\n",
            "Epoch 9500 : Cost = 0.1031954472669525\n",
            "The cost after training is 0.10158512.\n",
            "The resulting vector of weights is [np.float64(3.1e-07), np.float64(0.00127481), np.float64(-0.00110868)]\n"
          ]
        },
        {
          "data": {
            "image/png": "[encoded data removed]",
            "text/plain": [
              "<Figure size 640x480 with 1 Axes>"
            ]
          },
          "metadata": {},
          "output_type": "display_data"
        }
      ],
      "source": [
        "# Gradient descent parameters\n",
        "iterations = 10_000\n",
        "learning_rate = 1e-9\n",
        "initial_theta = np.zeros((3, 1))\n",
        "\n",
        "# Apply gradient descent\n",
        "j_list, theta = gradientDescent(X, Y, initial_theta, learning_rate, iterations)\n",
        "\n",
        "# Output the results\n",
        "print(f\"The cost after training is {j_list[-1]:.8f}.\")\n",
        "print(f\"The resulting vector of weights is {[round(t, 8) for t in np.squeeze(theta)]}\")\n",
        "\n",
        "# Plot the cost over iterations\n",
        "plt.plot(range(iterations), j_list, color=\"red\", linewidth=1)  # Corrected 'width' to 'linewidth'\n",
        "plt.xlabel(\"Iteration\")\n",
        "plt.ylabel(\"Cost\")\n",
        "plt.title(\"Cost Vs. Iteration\")\n",
        "plt.grid()"
      ]
    },
    {
      "cell_type": "markdown",
      "metadata": {
        "id": "_SG0p0tkfecC"
      },
      "source": [
        "### 7) Testing"
      ]
    },
    {
      "cell_type": "code",
      "execution_count": null,
      "metadata": {
        "id": "COrA4JW6fecD"
      },
      "outputs": [],
      "source": [
        "def predict_tweet(tweet, freqs, theta):\n",
        "    '''\n",
        "    Input:\n",
        "        tweet: a string\n",
        "        freqs: a dictionary corresponding to the frequencies of each tuple (word, label)\n",
        "        theta: (3,1) vector of weights\n",
        "    Output:\n",
        "        y_pred: the probability of a tweet being positive or negative\n",
        "    '''\n",
        "    x = extract_features(tweet, freqs)\n",
        "    y_pred = sigmoid(np.dot(x, theta))\n",
        "    return y_pred"
      ]
    },
    {
      "cell_type": "code",
      "execution_count": null,
      "metadata": {
        "id": "E4tgdJGEfecD"
      },
      "outputs": [],
      "source": [
        "def test_logistic_regression(test_x, test_y, freqs, theta, predict_tweet=predict_tweet):\n",
        "    \"\"\"\n",
        "    Evaluate the accuracy of a logistic regression model on a test set.\n",
        "\n",
        "    Args:\n",
        "        test_x (list): A list of tweets.\n",
        "        test_y (numpy.ndarray): (m, 1) vector of true labels for the tweets.\n",
        "        freqs (dict): A dictionary with word-label pair frequencies.\n",
        "        theta (numpy.ndarray): Weight vector (3, 1) for the model.\n",
        "        predict_tweet (function): Function to predict the label of a tweet.\n",
        "\n",
        "    Returns:\n",
        "        float: The accuracy of the predictions.\n",
        "    \"\"\"\n",
        "    y_hat = [\n",
        "        1.0 if predict_tweet(tweet, freqs, theta) > 0.5 else 0.0\n",
        "        for tweet in test_x\n",
        "    ]\n",
        "\n",
        "    accuracy = np.mean([y_val == pred for pred, y_val in zip(y_hat, test_y)])\n",
        "    return accuracy"
      ]
    },
    {
      "cell_type": "code",
      "execution_count": null,
      "metadata": {
        "id": "Or0kFKALfecD",
        "outputId": "9d9d26fe-2c44-4e6d-fe85-857f6f566831"
      },
      "outputs": [
        {
          "name": "stdout",
          "output_type": "stream",
          "text": [
            "Model Accuracy = 99.450000 %\n"
          ]
        }
      ],
      "source": [
        "tmp_accuracy = test_logistic_regression(test_x, test_y, freqs, theta)\n",
        "print(f\"Model Accuracy = {tmp_accuracy * 100:3f} %\")"
      ]
    },
    {
      "cell_type": "markdown",
      "metadata": {
        "id": "wZ3C2dvHfecD"
      },
      "source": [
        "### 8) Conclusion"
      ]
    },
    {
      "cell_type": "markdown",
      "metadata": {
        "id": "wFx2g_GYfecD"
      },
      "source": [
        "Logistic regression based sentiment analysis is the classical approach for sentiment analysis, and from the above experiment results it clear that with propper data preprocessing and training techniques, it is possible to build a solid sentiment classifier, even with the most classical approach."
      ]
    },
    {
      "cell_type": "code",
      "execution_count": null,
      "metadata": {
        "id": "tMpYhdbzfecE"
      },
      "outputs": [],
      "source": [
        "# Final Classifier\n",
        "\n",
        "def categorize_tweet(tweet, ambiguity_threshold=0.01):\n",
        "    \"\"\"\n",
        "    Categorize a tweet into Positive, Negative, or Ambiguous based on its sentiment score.\n",
        "\n",
        "    Args:\n",
        "        tweet (str): The tweet to categorize.\n",
        "        freqs (dict): A dictionary with word-label pair frequencies.\n",
        "        theta (numpy.ndarray): Weight vector for the model.\n",
        "        predict_tweet (function): Function to predict the label of a tweet.\n",
        "        ambiguity_threshold (float): Threshold for categorizing a prediction as ambiguous.\n",
        "\n",
        "    Returns:\n",
        "        dict: A dictionary with the predicted value and its category.\n",
        "    \"\"\"\n",
        "    # Safely extract the prediction as a scalar\n",
        "    prediction = float(predict_tweet(tweet, freqs, theta)[0].item())\n",
        "\n",
        "    if abs(prediction - 0.5) < ambiguity_threshold:\n",
        "        category = \"Ambiguous\"\n",
        "    else:\n",
        "        category = \"Positive\" if prediction > 0.5 else \"Negative\"\n",
        "\n",
        "    return {\"value\": prediction, \"category\": category}\n"
      ]
    },
    {
      "cell_type": "code",
      "execution_count": null,
      "metadata": {
        "id": "VzgiEnZ6fecE",
        "outputId": "56a43ec3-3bda-496a-f4b2-8cf932f25c9b"
      },
      "outputs": [
        {
          "data": {
            "text/plain": [
              "{'value': 0.5711210945167496, 'category': 'Positive'}"
            ]
          },
          "execution_count": 61,
          "metadata": {},
          "output_type": "execute_result"
        }
      ],
      "source": [
        "categorize_tweet(\"i love python\")"
      ]
    }
  ],
  "metadata": {
    "kernelspec": {
      "display_name": "Python 3",
      "language": "python",
      "name": "python3"
    },
    "language_info": {
      "codemirror_mode": {
        "name": "ipython",
        "version": 3
      },
      "file_extension": ".py",
      "mimetype": "text/x-python",
      "name": "python",
      "nbconvert_exporter": "python",
      "pygments_lexer": "ipython3",
      "version": "3.13.0"
    },
    "colab": {
      "provenance": [],
      "include_colab_link": true
    }
  },
  "nbformat": 4,
  "nbformat_minor": 0
}