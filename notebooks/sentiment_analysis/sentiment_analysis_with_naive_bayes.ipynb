{
  "cells": [
    {
      "cell_type": "markdown",
      "metadata": {
        "id": "view-in-github",
        "colab_type": "text"
      },
      "source": [
        "<a href=\"https://colab.research.google.com/github/isuruK2003/SentimentAnalysis/blob/main/sentiment_analysis_with_naive_bayes.ipynb\" target=\"_parent\"><img src=\"https://colab.research.google.com/assets/colab-badge.svg\" alt=\"Open In Colab\"/></a>"
      ]
    },
    {
      "cell_type": "markdown",
      "metadata": {
        "id": "sne4lJMdTcNR"
      },
      "source": [
        "### Sentiment Analysis with Naive Bayes'"
      ]
    },
    {
      "cell_type": "markdown",
      "metadata": {
        "id": "2nQAUniFTcNV"
      },
      "source": [
        "#### 1) Importing Data"
      ]
    },
    {
      "cell_type": "code",
      "execution_count": null,
      "metadata": {
        "id": "3RLdIDr9TcNW"
      },
      "outputs": [],
      "source": [
        "from os import getcwd\n",
        "import numpy as np\n",
        "import nltk\n",
        "from nltk.corpus import twitter_samples"
      ]
    },
    {
      "cell_type": "code",
      "execution_count": null,
      "metadata": {
        "colab": {
          "base_uri": "https://localhost:8080/"
        },
        "id": "chZRbOnBTcNX",
        "outputId": "73635a33-b456-4f56-a034-ff01d620d4c4"
      },
      "outputs": [
        {
          "output_type": "stream",
          "name": "stderr",
          "text": [
            "[nltk_data] Downloading package twitter_samples to /root/nltk_data...\n",
            "[nltk_data]   Unzipping corpora/twitter_samples.zip.\n",
            "[nltk_data] Downloading package stopwords to /root/nltk_data...\n",
            "[nltk_data]   Unzipping corpora/stopwords.zip.\n"
          ]
        },
        {
          "output_type": "execute_result",
          "data": {
            "text/plain": [
              "True"
            ]
          },
          "metadata": {},
          "execution_count": 2
        }
      ],
      "source": [
        "nltk.download('twitter_samples')\n",
        "nltk.download('stopwords')"
      ]
    },
    {
      "cell_type": "code",
      "execution_count": null,
      "metadata": {
        "id": "jv2lK7LFTcNY"
      },
      "outputs": [],
      "source": [
        "filePath = f\"{getcwd()}/../tmp2/\"\n",
        "nltk.data.path.append(filePath)"
      ]
    },
    {
      "cell_type": "code",
      "execution_count": null,
      "metadata": {
        "id": "JF_mJBkNTcNZ"
      },
      "outputs": [],
      "source": [
        "# select the set of positive and negative tweets\n",
        "all_positive_tweets = twitter_samples.strings('positive_tweets.json')\n",
        "all_negative_tweets = twitter_samples.strings('negative_tweets.json')"
      ]
    },
    {
      "cell_type": "code",
      "execution_count": null,
      "metadata": {
        "id": "gFk3aqEcTcNZ"
      },
      "outputs": [],
      "source": [
        "# split the data into two pieces, one for training and one for testing (validation set)\n",
        "test_pos = all_positive_tweets[4000:]\n",
        "train_pos = all_positive_tweets[:4000]\n",
        "\n",
        "test_neg = all_negative_tweets[4000:]\n",
        "train_neg = all_negative_tweets[:4000]"
      ]
    },
    {
      "cell_type": "code",
      "execution_count": null,
      "metadata": {
        "colab": {
          "base_uri": "https://localhost:8080/"
        },
        "id": "Q0ghSn4YTcNa",
        "outputId": "8554ae56-0b30-42bf-984d-752580efc740"
      },
      "outputs": [
        {
          "output_type": "stream",
          "name": "stdout",
          "text": [
            "[1. 1. 1. ... 0. 0. 0.] [1. 1. 1. ... 0. 0. 0.]\n"
          ]
        }
      ],
      "source": [
        "# Combine train_pos and train_neg;\n",
        "\n",
        "train_x = train_pos + train_neg\n",
        "test_x = test_pos + test_neg\n",
        "\n",
        "# Applying a label\n",
        "\n",
        "# train_x contains tweets, where the first portion (0 to len(train_pos) - 1) is postive and the rest is negative (from len(train_pos) - 1 to len(test_x) - 1)\n",
        "# what the following code does is, it creates a array of ones for first portion and another array of zeros for the secod portion\n",
        "# then it combines them together, resulting a numpy array that has a length of test_x\n",
        "# the, same procedure has applied to the test_x too\n",
        "\n",
        "train_y = np.append(np.ones((len(train_pos), 1)), np.zeros((len(train_neg), 1)), axis=0)\n",
        "train_y = np.squeeze(train_y.tolist())\n",
        "\n",
        "test_y = np.append(np.ones((len(test_pos), 1)), np.zeros((len(test_neg), 1)), axis=0)\n",
        "test_y = np.squeeze(train_y.tolist())\n",
        "\n",
        "print(train_y, test_y)"
      ]
    },
    {
      "cell_type": "markdown",
      "metadata": {
        "id": "shWhq2oTTcNa"
      },
      "source": [
        "#### 2) Cleaning Data"
      ]
    },
    {
      "cell_type": "code",
      "execution_count": null,
      "metadata": {
        "id": "cIF2aZzzTcNa"
      },
      "outputs": [],
      "source": [
        "import re\n",
        "import string\n",
        "\n",
        "from nltk.corpus import stopwords\n",
        "from nltk.stem import PorterStemmer\n",
        "from nltk.tokenize import TweetTokenizer"
      ]
    },
    {
      "cell_type": "code",
      "execution_count": null,
      "metadata": {
        "colab": {
          "base_uri": "https://localhost:8080/"
        },
        "id": "CUojtbelTcNb",
        "outputId": "a61f93f6-bbee-4e34-fe28-d3fdac099bb5"
      },
      "outputs": [
        {
          "output_type": "stream",
          "name": "stdout",
          "text": [
            "Quick Test: ['bro', ':', 'u', 'wan', 'cut', 'hair', 'anot', ',', 'ur', 'hair', 'long', 'liao', 'bo', 'me', ':', 'since', 'ord', 'liao', ',', 'take', 'it', 'easy', 'lor', 'treat', 'as', 'save', '$', 'leave', 'it', 'longer', ':)', 'bro', ':', 'lol', 'sibei', 'xialan']\n"
          ]
        }
      ],
      "source": [
        "def tokenize_tweet(tweet:str):\n",
        "    tokenizer = TweetTokenizer(preserve_case=False, strip_handles=True, reduce_len=True)\n",
        "    return tokenizer.tokenize(tweet)\n",
        "\n",
        "print(\"Quick Test:\", tokenize_tweet(test_x[0]))"
      ]
    },
    {
      "cell_type": "code",
      "execution_count": null,
      "metadata": {
        "colab": {
          "base_uri": "https://localhost:8080/"
        },
        "id": "kknus5UvTcNb",
        "outputId": "3103391b-32ae-4924-dc96-682a1bf91e43"
      },
      "outputs": [
        {
          "output_type": "stream",
          "name": "stdout",
          "text": [
            "Quick Test:\n",
            " Everything in the kids section of IKEA is so cute. Shame I'm nearly 19 in 2 months :( \n",
            " ['everyth', 'kid', 'section', 'ikea', 'cute', 'shame', \"i'm\", 'nearli', '19', '2', 'month', ':(']\n"
          ]
        }
      ],
      "source": [
        "def process_tweet(tweet):\n",
        "    tweet = re.sub(r'\\$\\w*', '', tweet) # remove old style retweet text \"RT\"\n",
        "    tweet = re.sub(r'^RT[\\s]+', '', tweet) # remove hyperlinks\n",
        "    tweet = re.sub(r'https?://[^\\s\\n\\r]+', '', tweet) # remove hashtags\n",
        "    tweet = re.sub(r'#', '', tweet) # only removing the hash # sign from the word\n",
        "\n",
        "    tweet_cleaned = []\n",
        "    stemmer = PorterStemmer()\n",
        "    stopwords_english = stopwords.words('english') # remove stock market tickers like $GE\n",
        "\n",
        "    for word in tokenize_tweet(tweet):\n",
        "        if (word not in stopwords_english and  # remove stopwords\n",
        "                word not in string.punctuation):  # remove punctuation\n",
        "            stem_word = stemmer.stem(word)  # stemming word\n",
        "            tweet_cleaned.append(stem_word)\n",
        "    return tweet_cleaned\n",
        "\n",
        "print(\"Quick Test:\\n\", train_neg[1], \"\\n\", process_tweet(train_neg[1]))"
      ]
    },
    {
      "cell_type": "markdown",
      "metadata": {
        "id": "Z5DgqnZOTcNb"
      },
      "source": [
        "#### 3) Classifier using Naive Bayes"
      ]
    },
    {
      "cell_type": "markdown",
      "metadata": {
        "id": "kZb5-vIqTcNb"
      },
      "source": [
        "#### Bayes' Theorem\n",
        "\n",
        "- Bayes' theorem describes the probability of an event, based on prior knowledge of conditions related to the event. It is widely used in statistics and machine learning to update the probability of a hypothesis given new evidence.\n",
        "\n",
        "$$P(X \\mid Y) = \\frac{P(Y \\mid X) \\cdot P(X)}{P(Y)}$$\n",
        "\n",
        "### Application of Bayes' Theorem in Naive Bayes Classification\n",
        "\n",
        "- Naive Bayes classification is a simple probabilistic classifier based on Bayes' Theorem. It assumes that the features are conditionally independent given the class label. This assumption greatly simplifies the computation and allows the model to handle large datasets efficiently.\n",
        "\n",
        "- The Naive Bayes classifier calculates the posterior probability of each class given the observed features and chooses the class with the highest posterior probability. Specifically, for a dataset with features \\(X = (X_1, X_2, ..., X_n)\\), the classification rule is based on Bayes' Theorem:\n",
        "\n",
        "$$P(Y \\mid X_1, X_2, ..., X_n) = \\frac{P(X_1, X_2, ..., X_n \\mid Y) \\cdot P(Y)}{P(X_1, X_2, ..., X_n)}$$\n",
        "\n",
        "- Using the **naive assumption** of conditional independence, we can simplify the likelihood term:\n",
        "\n",
        "$$P(X_1, X_2, ..., X_n \\mid Y) = P(X_1 \\mid Y) \\cdot P(X_2 \\mid Y) \\cdot \\dots \\cdot P(X_n \\mid Y)$$\n",
        "\n",
        "- Thus, the Naive Bayes classification rule becomes:\n",
        "\n",
        "$$\\hat{Y} = \\arg \\max_Y P(Y) \\prod_{i=1}^n P(X_i \\mid Y)$$\n",
        "\n",
        "Where:\n",
        "- \\(P(Y)\\) is the prior probability of the class.\n",
        "- \\(P(X_i \\mid Y)\\) is the likelihood of feature \\(X_i\\) given class \\(Y\\).\n",
        "\n",
        "- This approach is particularly useful for text classification tasks, like spam detection or sentiment analysis, where features (e.g., words) are treated as independent given the class.\n",
        "\n",
        "- Despite the strong assumption of independence, Naive Bayes often performs surprisingly well and is easy to implement and understand.\n"
      ]
    },
    {
      "cell_type": "code",
      "execution_count": null,
      "metadata": {
        "id": "Z1uO4BVCTcNc"
      },
      "outputs": [],
      "source": [
        "def compute_freqs(train_x:list[list[str]], train_y:list[float]):\n",
        "    freqs = {}\n",
        "    for tweet, sentiment in zip(train_x, train_y):\n",
        "        for word in process_tweet(tweet):\n",
        "            pair = (word, sentiment)\n",
        "            if pair in freqs:\n",
        "                freqs[pair] += 1\n",
        "            else:\n",
        "                freqs[pair] = 1\n",
        "    return freqs"
      ]
    },
    {
      "cell_type": "code",
      "execution_count": null,
      "metadata": {
        "id": "mPyOjAV7TcNc"
      },
      "outputs": [],
      "source": [
        "import pandas as pd"
      ]
    },
    {
      "cell_type": "code",
      "execution_count": null,
      "metadata": {
        "id": "vYIGl98gTcNc"
      },
      "outputs": [],
      "source": [
        "freqs = compute_freqs(train_x, train_y)\n",
        "\n",
        "# Initialize the dictionary to store word statistics\n",
        "df = {}\n",
        "\n",
        "V = len(set([pair[0] for pair in freqs.keys()]))  # Total number of unique words\n",
        "N_pos = 0  # Total number of positive occurrences\n",
        "N_neg = 0  # Total number of negative occurrences\n",
        "\n",
        "# Populate the dictionary with word statistics\n",
        "for pair, freq in freqs.items():\n",
        "    word = pair[0]\n",
        "    sentiment = pair[1]\n",
        "    if word not in df:\n",
        "        df[word] = {\n",
        "            \"pos_freq\": 0,\n",
        "            \"neg_freq\": 0\n",
        "        }\n",
        "    if sentiment == 1:  # Positive sentiment\n",
        "        df[word][\"pos_freq\"] += freq\n",
        "        N_pos += freq\n",
        "    elif sentiment == 0:  # Negative sentiment\n",
        "        df[word][\"neg_freq\"] += freq\n",
        "        N_neg += freq\n",
        "\n",
        "# Convert the dictionary into a DataFrame\n",
        "df = pd.DataFrame.from_dict(df, orient=\"index\")\n",
        "\n",
        "# Add probabilities and log ratio to the DataFrame\n",
        "df[\"pos_prob\"] = (df[\"pos_freq\"] + 1) / (N_pos + V)  # Laplace smoothing\n",
        "df[\"neg_prob\"] = (df[\"neg_freq\"] + 1) / (N_neg + V)  # Laplace smoothing\n",
        "df[\"prob_log_ratio\"] = np.log(df[\"pos_prob\"] / df[\"neg_prob\"])\n",
        "\n"
      ]
    },
    {
      "cell_type": "code",
      "execution_count": null,
      "metadata": {
        "colab": {
          "base_uri": "https://localhost:8080/",
          "height": 423
        },
        "id": "TGjaXHGNTcNc",
        "outputId": "033e093d-a230-4b21-8e41-e1bc5069e3b5"
      },
      "outputs": [
        {
          "output_type": "execute_result",
          "data": {
            "text/plain": [
              "              pos_freq  neg_freq  pos_prob  neg_prob  prob_log_ratio\n",
              "followfriday        23         0  0.000654  0.000028        3.166931\n",
              "top                 30         5  0.000845  0.000165        1.631105\n",
              "engag                7         0  0.000218  0.000028        2.068318\n",
              "member              14         6  0.000409  0.000193        0.751017\n",
              "commun              27         1  0.000763  0.000055        2.627934\n",
              "...                ...       ...       ...       ...             ...\n",
              "dislik               0         1  0.000027  0.000055       -0.704270\n",
              "burdensom            0         1  0.000027  0.000055       -0.704270\n",
              "amelia               0         1  0.000027  0.000055       -0.704270\n",
              "melon                0         1  0.000027  0.000055       -0.704270\n",
              "soccer               0         1  0.000027  0.000055       -0.704270\n",
              "\n",
              "[9161 rows x 5 columns]"
            ],
            "text/html": [
              "\n",
              "  <div id=\"df-e8447eb3-2c66-481b-87a1-7046d27e6d6f\" class=\"colab-df-container\">\n",
              "    <div>\n",
              "<style scoped>\n",
              "    .dataframe tbody tr th:only-of-type {\n",
              "        vertical-align: middle;\n",
              "    }\n",
              "\n",
              "    .dataframe tbody tr th {\n",
              "        vertical-align: top;\n",
              "    }\n",
              "\n",
              "    .dataframe thead th {\n",
              "        text-align: right;\n",
              "    }\n",
              "</style>\n",
              "<table border=\"1\" class=\"dataframe\">\n",
              "  <thead>\n",
              "    <tr style=\"text-align: right;\">\n",
              "      <th></th>\n",
              "      <th>pos_freq</th>\n",
              "      <th>neg_freq</th>\n",
              "      <th>pos_prob</th>\n",
              "      <th>neg_prob</th>\n",
              "      <th>prob_log_ratio</th>\n",
              "    </tr>\n",
              "  </thead>\n",
              "  <tbody>\n",
              "    <tr>\n",
              "      <th>followfriday</th>\n",
              "      <td>23</td>\n",
              "      <td>0</td>\n",
              "      <td>0.000654</td>\n",
              "      <td>0.000028</td>\n",
              "      <td>3.166931</td>\n",
              "    </tr>\n",
              "    <tr>\n",
              "      <th>top</th>\n",
              "      <td>30</td>\n",
              "      <td>5</td>\n",
              "      <td>0.000845</td>\n",
              "      <td>0.000165</td>\n",
              "      <td>1.631105</td>\n",
              "    </tr>\n",
              "    <tr>\n",
              "      <th>engag</th>\n",
              "      <td>7</td>\n",
              "      <td>0</td>\n",
              "      <td>0.000218</td>\n",
              "      <td>0.000028</td>\n",
              "      <td>2.068318</td>\n",
              "    </tr>\n",
              "    <tr>\n",
              "      <th>member</th>\n",
              "      <td>14</td>\n",
              "      <td>6</td>\n",
              "      <td>0.000409</td>\n",
              "      <td>0.000193</td>\n",
              "      <td>0.751017</td>\n",
              "    </tr>\n",
              "    <tr>\n",
              "      <th>commun</th>\n",
              "      <td>27</td>\n",
              "      <td>1</td>\n",
              "      <td>0.000763</td>\n",
              "      <td>0.000055</td>\n",
              "      <td>2.627934</td>\n",
              "    </tr>\n",
              "    <tr>\n",
              "      <th>...</th>\n",
              "      <td>...</td>\n",
              "      <td>...</td>\n",
              "      <td>...</td>\n",
              "      <td>...</td>\n",
              "      <td>...</td>\n",
              "    </tr>\n",
              "    <tr>\n",
              "      <th>dislik</th>\n",
              "      <td>0</td>\n",
              "      <td>1</td>\n",
              "      <td>0.000027</td>\n",
              "      <td>0.000055</td>\n",
              "      <td>-0.704270</td>\n",
              "    </tr>\n",
              "    <tr>\n",
              "      <th>burdensom</th>\n",
              "      <td>0</td>\n",
              "      <td>1</td>\n",
              "      <td>0.000027</td>\n",
              "      <td>0.000055</td>\n",
              "      <td>-0.704270</td>\n",
              "    </tr>\n",
              "    <tr>\n",
              "      <th>amelia</th>\n",
              "      <td>0</td>\n",
              "      <td>1</td>\n",
              "      <td>0.000027</td>\n",
              "      <td>0.000055</td>\n",
              "      <td>-0.704270</td>\n",
              "    </tr>\n",
              "    <tr>\n",
              "      <th>melon</th>\n",
              "      <td>0</td>\n",
              "      <td>1</td>\n",
              "      <td>0.000027</td>\n",
              "      <td>0.000055</td>\n",
              "      <td>-0.704270</td>\n",
              "    </tr>\n",
              "    <tr>\n",
              "      <th>soccer</th>\n",
              "      <td>0</td>\n",
              "      <td>1</td>\n",
              "      <td>0.000027</td>\n",
              "      <td>0.000055</td>\n",
              "      <td>-0.704270</td>\n",
              "    </tr>\n",
              "  </tbody>\n",
              "</table>\n",
              "<p>9161 rows × 5 columns</p>\n",
              "</div>\n",
              "    <div class=\"colab-df-buttons\">\n",
              "\n",
              "  <div class=\"colab-df-container\">\n",
              "    <button class=\"colab-df-convert\" onclick=\"convertToInteractive('df-e8447eb3-2c66-481b-87a1-7046d27e6d6f')\"\n",
              "            title=\"Convert this dataframe to an interactive table.\"\n",
              "            style=\"display:none;\">\n",
              "\n",
              "  <svg xmlns=\"http://www.w3.org/2000/svg\" height=\"24px\" viewBox=\"0 -960 960 960\">\n",
              "    <path d=\"M120-120v-720h720v720H120Zm60-500h600v-160H180v160Zm220 220h160v-160H400v160Zm0 220h160v-160H400v160ZM180-400h160v-160H180v160Zm440 0h160v-160H620v160ZM180-180h160v-160H180v160Zm440 0h160v-160H620v160Z\"/>\n",
              "  </svg>\n",
              "    </button>\n",
              "\n",
              "  <style>\n",
              "    .colab-df-container {\n",
              "      display:flex;\n",
              "      gap: 12px;\n",
              "    }\n",
              "\n",
              "    .colab-df-convert {\n",
              "      background-color: #E8F0FE;\n",
              "      border: none;\n",
              "      border-radius: 50%;\n",
              "      cursor: pointer;\n",
              "      display: none;\n",
              "      fill: #1967D2;\n",
              "      height: 32px;\n",
              "      padding: 0 0 0 0;\n",
              "      width: 32px;\n",
              "    }\n",
              "\n",
              "    .colab-df-convert:hover {\n",
              "      background-color: #E2EBFA;\n",
              "      box-shadow: 0px 1px 2px rgba(60, 64, 67, 0.3), 0px 1px 3px 1px rgba(60, 64, 67, 0.15);\n",
              "      fill: #174EA6;\n",
              "    }\n",
              "\n",
              "    .colab-df-buttons div {\n",
              "      margin-bottom: 4px;\n",
              "    }\n",
              "\n",
              "    [theme=dark] .colab-df-convert {\n",
              "      background-color: #3B4455;\n",
              "      fill: #D2E3FC;\n",
              "    }\n",
              "\n",
              "    [theme=dark] .colab-df-convert:hover {\n",
              "      background-color: #434B5C;\n",
              "      box-shadow: 0px 1px 3px 1px rgba(0, 0, 0, 0.15);\n",
              "      filter: drop-shadow(0px 1px 2px rgba(0, 0, 0, 0.3));\n",
              "      fill: #FFFFFF;\n",
              "    }\n",
              "  </style>\n",
              "\n",
              "    <script>\n",
              "      const buttonEl =\n",
              "        document.querySelector('#df-e8447eb3-2c66-481b-87a1-7046d27e6d6f button.colab-df-convert');\n",
              "      buttonEl.style.display =\n",
              "        google.colab.kernel.accessAllowed ? 'block' : 'none';\n",
              "\n",
              "      async function convertToInteractive(key) {\n",
              "        const element = document.querySelector('#df-e8447eb3-2c66-481b-87a1-7046d27e6d6f');\n",
              "        const dataTable =\n",
              "          await google.colab.kernel.invokeFunction('convertToInteractive',\n",
              "                                                    [key], {});\n",
              "        if (!dataTable) return;\n",
              "\n",
              "        const docLinkHtml = 'Like what you see? Visit the ' +\n",
              "          '<a target=\"_blank\" href=https://colab.research.google.com/notebooks/data_table.ipynb>data table notebook</a>'\n",
              "          + ' to learn more about interactive tables.';\n",
              "        element.innerHTML = '';\n",
              "        dataTable['output_type'] = 'display_data';\n",
              "        await google.colab.output.renderOutput(dataTable, element);\n",
              "        const docLink = document.createElement('div');\n",
              "        docLink.innerHTML = docLinkHtml;\n",
              "        element.appendChild(docLink);\n",
              "      }\n",
              "    </script>\n",
              "  </div>\n",
              "\n",
              "\n",
              "<div id=\"df-63ae025f-b081-4d2c-9b27-d69f2c4b6fc9\">\n",
              "  <button class=\"colab-df-quickchart\" onclick=\"quickchart('df-63ae025f-b081-4d2c-9b27-d69f2c4b6fc9')\"\n",
              "            title=\"Suggest charts\"\n",
              "            style=\"display:none;\">\n",
              "\n",
              "<svg xmlns=\"http://www.w3.org/2000/svg\" height=\"24px\"viewBox=\"0 0 24 24\"\n",
              "     width=\"24px\">\n",
              "    <g>\n",
              "        <path d=\"M19 3H5c-1.1 0-2 .9-2 2v14c0 1.1.9 2 2 2h14c1.1 0 2-.9 2-2V5c0-1.1-.9-2-2-2zM9 17H7v-7h2v7zm4 0h-2V7h2v10zm4 0h-2v-4h2v4z\"/>\n",
              "    </g>\n",
              "</svg>\n",
              "  </button>\n",
              "\n",
              "<style>\n",
              "  .colab-df-quickchart {\n",
              "      --bg-color: #E8F0FE;\n",
              "      --fill-color: #1967D2;\n",
              "      --hover-bg-color: #E2EBFA;\n",
              "      --hover-fill-color: #174EA6;\n",
              "      --disabled-fill-color: #AAA;\n",
              "      --disabled-bg-color: #DDD;\n",
              "  }\n",
              "\n",
              "  [theme=dark] .colab-df-quickchart {\n",
              "      --bg-color: #3B4455;\n",
              "      --fill-color: #D2E3FC;\n",
              "      --hover-bg-color: #434B5C;\n",
              "      --hover-fill-color: #FFFFFF;\n",
              "      --disabled-bg-color: #3B4455;\n",
              "      --disabled-fill-color: #666;\n",
              "  }\n",
              "\n",
              "  .colab-df-quickchart {\n",
              "    background-color: var(--bg-color);\n",
              "    border: none;\n",
              "    border-radius: 50%;\n",
              "    cursor: pointer;\n",
              "    display: none;\n",
              "    fill: var(--fill-color);\n",
              "    height: 32px;\n",
              "    padding: 0;\n",
              "    width: 32px;\n",
              "  }\n",
              "\n",
              "  .colab-df-quickchart:hover {\n",
              "    background-color: var(--hover-bg-color);\n",
              "    box-shadow: 0 1px 2px rgba(60, 64, 67, 0.3), 0 1px 3px 1px rgba(60, 64, 67, 0.15);\n",
              "    fill: var(--button-hover-fill-color);\n",
              "  }\n",
              "\n",
              "  .colab-df-quickchart-complete:disabled,\n",
              "  .colab-df-quickchart-complete:disabled:hover {\n",
              "    background-color: var(--disabled-bg-color);\n",
              "    fill: var(--disabled-fill-color);\n",
              "    box-shadow: none;\n",
              "  }\n",
              "\n",
              "  .colab-df-spinner {\n",
              "    border: 2px solid var(--fill-color);\n",
              "    border-color: transparent;\n",
              "    border-bottom-color: var(--fill-color);\n",
              "    animation:\n",
              "      spin 1s steps(1) infinite;\n",
              "  }\n",
              "\n",
              "  @keyframes spin {\n",
              "    0% {\n",
              "      border-color: transparent;\n",
              "      border-bottom-color: var(--fill-color);\n",
              "      border-left-color: var(--fill-color);\n",
              "    }\n",
              "    20% {\n",
              "      border-color: transparent;\n",
              "      border-left-color: var(--fill-color);\n",
              "      border-top-color: var(--fill-color);\n",
              "    }\n",
              "    30% {\n",
              "      border-color: transparent;\n",
              "      border-left-color: var(--fill-color);\n",
              "      border-top-color: var(--fill-color);\n",
              "      border-right-color: var(--fill-color);\n",
              "    }\n",
              "    40% {\n",
              "      border-color: transparent;\n",
              "      border-right-color: var(--fill-color);\n",
              "      border-top-color: var(--fill-color);\n",
              "    }\n",
              "    60% {\n",
              "      border-color: transparent;\n",
              "      border-right-color: var(--fill-color);\n",
              "    }\n",
              "    80% {\n",
              "      border-color: transparent;\n",
              "      border-right-color: var(--fill-color);\n",
              "      border-bottom-color: var(--fill-color);\n",
              "    }\n",
              "    90% {\n",
              "      border-color: transparent;\n",
              "      border-bottom-color: var(--fill-color);\n",
              "    }\n",
              "  }\n",
              "</style>\n",
              "\n",
              "  <script>\n",
              "    async function quickchart(key) {\n",
              "      const quickchartButtonEl =\n",
              "        document.querySelector('#' + key + ' button');\n",
              "      quickchartButtonEl.disabled = true;  // To prevent multiple clicks.\n",
              "      quickchartButtonEl.classList.add('colab-df-spinner');\n",
              "      try {\n",
              "        const charts = await google.colab.kernel.invokeFunction(\n",
              "            'suggestCharts', [key], {});\n",
              "      } catch (error) {\n",
              "        console.error('Error during call to suggestCharts:', error);\n",
              "      }\n",
              "      quickchartButtonEl.classList.remove('colab-df-spinner');\n",
              "      quickchartButtonEl.classList.add('colab-df-quickchart-complete');\n",
              "    }\n",
              "    (() => {\n",
              "      let quickchartButtonEl =\n",
              "        document.querySelector('#df-63ae025f-b081-4d2c-9b27-d69f2c4b6fc9 button');\n",
              "      quickchartButtonEl.style.display =\n",
              "        google.colab.kernel.accessAllowed ? 'block' : 'none';\n",
              "    })();\n",
              "  </script>\n",
              "</div>\n",
              "\n",
              "  <div id=\"id_bd0c5b60-2c81-4c52-b950-fb8eac5aa039\">\n",
              "    <style>\n",
              "      .colab-df-generate {\n",
              "        background-color: #E8F0FE;\n",
              "        border: none;\n",
              "        border-radius: 50%;\n",
              "        cursor: pointer;\n",
              "        display: none;\n",
              "        fill: #1967D2;\n",
              "        height: 32px;\n",
              "        padding: 0 0 0 0;\n",
              "        width: 32px;\n",
              "      }\n",
              "\n",
              "      .colab-df-generate:hover {\n",
              "        background-color: #E2EBFA;\n",
              "        box-shadow: 0px 1px 2px rgba(60, 64, 67, 0.3), 0px 1px 3px 1px rgba(60, 64, 67, 0.15);\n",
              "        fill: #174EA6;\n",
              "      }\n",
              "\n",
              "      [theme=dark] .colab-df-generate {\n",
              "        background-color: #3B4455;\n",
              "        fill: #D2E3FC;\n",
              "      }\n",
              "\n",
              "      [theme=dark] .colab-df-generate:hover {\n",
              "        background-color: #434B5C;\n",
              "        box-shadow: 0px 1px 3px 1px rgba(0, 0, 0, 0.15);\n",
              "        filter: drop-shadow(0px 1px 2px rgba(0, 0, 0, 0.3));\n",
              "        fill: #FFFFFF;\n",
              "      }\n",
              "    </style>\n",
              "    <button class=\"colab-df-generate\" onclick=\"generateWithVariable('df')\"\n",
              "            title=\"Generate code using this dataframe.\"\n",
              "            style=\"display:none;\">\n",
              "\n",
              "  <svg xmlns=\"http://www.w3.org/2000/svg\" height=\"24px\"viewBox=\"0 0 24 24\"\n",
              "       width=\"24px\">\n",
              "    <path d=\"M7,19H8.4L18.45,9,17,7.55,7,17.6ZM5,21V16.75L18.45,3.32a2,2,0,0,1,2.83,0l1.4,1.43a1.91,1.91,0,0,1,.58,1.4,1.91,1.91,0,0,1-.58,1.4L9.25,21ZM18.45,9,17,7.55Zm-12,3A5.31,5.31,0,0,0,4.9,8.1,5.31,5.31,0,0,0,1,6.5,5.31,5.31,0,0,0,4.9,4.9,5.31,5.31,0,0,0,6.5,1,5.31,5.31,0,0,0,8.1,4.9,5.31,5.31,0,0,0,12,6.5,5.46,5.46,0,0,0,6.5,12Z\"/>\n",
              "  </svg>\n",
              "    </button>\n",
              "    <script>\n",
              "      (() => {\n",
              "      const buttonEl =\n",
              "        document.querySelector('#id_bd0c5b60-2c81-4c52-b950-fb8eac5aa039 button.colab-df-generate');\n",
              "      buttonEl.style.display =\n",
              "        google.colab.kernel.accessAllowed ? 'block' : 'none';\n",
              "\n",
              "      buttonEl.onclick = () => {\n",
              "        google.colab.notebook.generateWithVariable('df');\n",
              "      }\n",
              "      })();\n",
              "    </script>\n",
              "  </div>\n",
              "\n",
              "    </div>\n",
              "  </div>\n"
            ],
            "application/vnd.google.colaboratory.intrinsic+json": {
              "type": "dataframe",
              "variable_name": "df",
              "summary": "{\n  \"name\": \"df\",\n  \"rows\": 9161,\n  \"fields\": [\n    {\n      \"column\": \"pos_freq\",\n      \"properties\": {\n        \"dtype\": \"number\",\n        \"std\": 34,\n        \"min\": 0,\n        \"max\": 2960,\n        \"num_unique_values\": 99,\n        \"samples\": [\n          38,\n          31,\n          47\n        ],\n        \"semantic_type\": \"\",\n        \"description\": \"\"\n      }\n    },\n    {\n      \"column\": \"neg_freq\",\n      \"properties\": {\n        \"dtype\": \"number\",\n        \"std\": 40,\n        \"min\": 0,\n        \"max\": 3675,\n        \"num_unique_values\": 93,\n        \"samples\": [\n          246,\n          118,\n          104\n        ],\n        \"semantic_type\": \"\",\n        \"description\": \"\"\n      }\n    },\n    {\n      \"column\": \"pos_prob\",\n      \"properties\": {\n        \"dtype\": \"number\",\n        \"std\": 0.0009291902012845951,\n        \"min\": 2.724498692240628e-05,\n        \"max\": 0.08067240627724499,\n        \"num_unique_values\": 99,\n        \"samples\": [\n          0.0010625544899738448,\n          0.0008718395815170009,\n          0.0013077593722755014\n        ],\n        \"semantic_type\": \"\",\n        \"description\": \"\"\n      }\n    },\n    {\n      \"column\": \"neg_prob\",\n      \"properties\": {\n        \"dtype\": \"number\",\n        \"std\": 0.0011040142447124842,\n        \"min\": 2.7549727257700147e-05,\n        \"max\": 0.10127279739930575,\n        \"num_unique_values\": 93,\n        \"samples\": [\n          0.006804782632651937,\n          0.0032784175436663177,\n          0.0028927213620585156\n        ],\n        \"semantic_type\": \"\",\n        \"description\": \"\"\n      }\n    },\n    {\n      \"column\": \"prob_log_ratio\",\n      \"properties\": {\n        \"dtype\": \"number\",\n        \"std\": 0.8292936955260635,\n        \"min\": -7.5275564005283835,\n        \"max\": 6.883546941820731,\n        \"num_unique_values\": 398,\n        \"samples\": [\n          -0.32957682873128585,\n          -5.362981231088818,\n          0.9491474283779384\n        ],\n        \"semantic_type\": \"\",\n        \"description\": \"\"\n      }\n    }\n  ]\n}"
            }
          },
          "metadata": {},
          "execution_count": 13
        }
      ],
      "source": [
        "df"
      ]
    },
    {
      "cell_type": "code",
      "execution_count": null,
      "metadata": {
        "id": "MFgCrMtiTcNc"
      },
      "outputs": [],
      "source": [
        "log_prior = np.log(len(train_pos)/len(train_neg))"
      ]
    },
    {
      "cell_type": "code",
      "execution_count": null,
      "metadata": {
        "id": "YqOTBCimTcNc"
      },
      "outputs": [],
      "source": [
        "def get_log_likelihood(tweet):\n",
        "    log_likelihood = 0\n",
        "    for word in process_tweet(tweet):\n",
        "        if word not in df.index:\n",
        "            continue\n",
        "        log_likelihood += df.loc[word, \"prob_log_ratio\"]\n",
        "    return log_likelihood"
      ]
    },
    {
      "cell_type": "code",
      "execution_count": null,
      "metadata": {
        "id": "PcwGuBowTcNc"
      },
      "outputs": [],
      "source": [
        "def predict(tweet:str):\n",
        "    likelihood = float(get_log_likelihood(tweet))\n",
        "    if likelihood == 0:\n",
        "        raise ValueError(\"Ambigous Prediction\")\n",
        "    return float(likelihood > 0) # postive"
      ]
    },
    {
      "cell_type": "markdown",
      "metadata": {
        "id": "KFn1DcTxTcNc"
      },
      "source": [
        "#### 4) Testing"
      ]
    },
    {
      "cell_type": "code",
      "execution_count": null,
      "metadata": {
        "colab": {
          "base_uri": "https://localhost:8080/"
        },
        "id": "JwD5yWuiTcNc",
        "outputId": "80a92559-d2ba-43cd-974d-8c299533b949"
      },
      "outputs": [
        {
          "output_type": "stream",
          "name": "stdout",
          "text": [
            "Accuracy: 49.975 %\n",
            "Ambiguous Count: 1\n"
          ]
        }
      ],
      "source": [
        "true_sum = 0\n",
        "false_sum = 0\n",
        "ambiguous_count = 0\n",
        "\n",
        "for tweet, y in zip(test_x, test_y):\n",
        "    try:\n",
        "        if predict(tweet) == float(y):\n",
        "            true_sum += 1\n",
        "        else:\n",
        "            false_sum += 1\n",
        "    except ValueError:\n",
        "        ambiguous_count += 1\n",
        "\n",
        "total_predictions = true_sum + false_sum\n",
        "accuracy = (true_sum / total_predictions) * 100 if total_predictions > 0 else 0\n",
        "\n",
        "print(f\"Accuracy: {accuracy:.3f} %\")\n",
        "print(f\"Ambiguous Count: {ambiguous_count}\")"
      ]
    },
    {
      "cell_type": "markdown",
      "metadata": {
        "id": "fs1T8F0lTcNd"
      },
      "source": [
        "#### 5) Conclusion"
      ]
    },
    {
      "cell_type": "markdown",
      "metadata": {
        "id": "McffUaDRTcNd"
      },
      "source": [
        "Naive Bayes' classifiesrs are simple to build, and are meant to provide reasonable accuracy. In the above experiment, the accuracy was less tha 50% which is not the best. The reason for this is Naive Bayes', but its the \"Naive\" approach that is used here for data preprocessing. So in the second part of this experiment, more sophisticated approach will be used data preprocessing."
      ]
    },
    {
      "cell_type": "code",
      "execution_count": null,
      "metadata": {
        "id": "7W_46M9eTcNd"
      },
      "outputs": [],
      "source": [
        "# To manually test the model\n",
        "\n",
        "def classify_tweet(tweet):\n",
        "    try:\n",
        "        class_map = [\"Negative\", \"Positive\", \"Neutral\"]\n",
        "        return class_map[int(predict(tweet))]\n",
        "    except ValueError:\n",
        "        return class_map[-1]"
      ]
    },
    {
      "cell_type": "code",
      "execution_count": null,
      "metadata": {
        "colab": {
          "base_uri": "https://localhost:8080/",
          "height": 36
        },
        "id": "5ylY-vqwTcNd",
        "outputId": "e236b9c2-3d49-41a0-e16b-b88fac4402c9"
      },
      "outputs": [
        {
          "output_type": "execute_result",
          "data": {
            "text/plain": [
              "'Positive'"
            ],
            "application/vnd.google.colaboratory.intrinsic+json": {
              "type": "string"
            }
          },
          "metadata": {},
          "execution_count": 21
        }
      ],
      "source": [
        "# Examples\n",
        "classify_tweet(\"i love oop :)\")"
      ]
    }
  ],
  "metadata": {
    "kernelspec": {
      "display_name": "Python 3",
      "language": "python",
      "name": "python3"
    },
    "language_info": {
      "codemirror_mode": {
        "name": "ipython",
        "version": 3
      },
      "file_extension": ".py",
      "mimetype": "text/x-python",
      "name": "python",
      "nbconvert_exporter": "python",
      "pygments_lexer": "ipython3",
      "version": "3.13.0"
    },
    "colab": {
      "provenance": [],
      "include_colab_link": true
    }
  },
  "nbformat": 4,
  "nbformat_minor": 0
}