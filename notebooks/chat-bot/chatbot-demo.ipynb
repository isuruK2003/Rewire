{
 "cells": [
  {
   "cell_type": "code",
   "execution_count": 42,
   "metadata": {},
   "outputs": [],
   "source": [
    "from textwrap import dedent\n",
    "from openai import OpenAI"
   ]
  },
  {
   "cell_type": "code",
   "execution_count": 43,
   "metadata": {},
   "outputs": [],
   "source": [
    "client = OpenAI()"
   ]
  },
  {
   "cell_type": "code",
   "execution_count": 45,
   "metadata": {},
   "outputs": [],
   "source": [
    "MODEL = \"gpt-4o-2024-08-06\""
   ]
  },
  {
   "cell_type": "code",
   "execution_count": 46,
   "metadata": {},
   "outputs": [],
   "source": [
    "THERAPIST_PROMPT = \"\"\"\n",
    "You are a helpful mental health therapist.\n",
    "Your role involves conversing with patients who have behavioral addictions, such as social media addiction.\n",
    "Your responsibility is to engage in meaningful and caring conversations with patients and provide helpful replies.\n",
    "If the patient asks or once you have enough information about the patient, suggest the patient with Recovery Plan.\n",
    "This recovery plan should consists of set of micro-tasks where the patient has to do.\n",
    "Also assign a reward value that ranges between 1 and 10, for each micro task, based its effect on the overall recovery process.\n",
    "Please use scientific techniques, such as Cognitive Behavioral Therapy, to provide a treatment plan.\n",
    "\"\"\""
   ]
  },
  {
   "cell_type": "code",
   "execution_count": 47,
   "metadata": {},
   "outputs": [],
   "source": [
    "response_format = {\n",
    "    \"type\": \"json_schema\",\n",
    "    \"json_schema\": {\n",
    "        \"name\": \"mental_health_therapist\",\n",
    "        \"schema\": {\n",
    "            \"type\": \"object\",\n",
    "            \"properties\": {\n",
    "                \"reply\": {\"type\": \"string\"},\n",
    "                \"recovery_plan\": {\n",
    "                    \"type\": \"array\",\n",
    "                    \"items\": {\n",
    "                        \"type\": \"object\",\n",
    "                        \"properties\": {\n",
    "                            \"task\": {\"type\": \"string\"},\n",
    "                            \"time_period\": {\"type\": \"string\"},\n",
    "                            \"reward\": {\"type\": \"integer\"}\n",
    "                        },\n",
    "                        \"required\": [\"task\", \"time_period\", \"reward\"],\n",
    "                        \"additionalProperties\": False\n",
    "                    }\n",
    "                }\n",
    "            },\n",
    "            \"required\": [\"reply\", \"recovery_plan\"],\n",
    "            \"additionalProperties\": False\n",
    "        },\n",
    "        \"strict\": True\n",
    "    }\n",
    "}"
   ]
  },
  {
   "cell_type": "code",
   "execution_count": 48,
   "metadata": {},
   "outputs": [],
   "source": [
    "def get_response(message, previous_messages):\n",
    "    messages = [{\"role\": \"system\", \"content\": dedent(THERAPIST_PROMPT)}]\n",
    "    messages.extend(previous_messages)\n",
    "    messages.append({\"role\": \"user\", \"content\": message})\n",
    "    response = client.chat.completions.create(\n",
    "        model=MODEL,\n",
    "        messages=messages,\n",
    "        response_format=response_format)\n",
    "    return response.choices[0].message"
   ]
  },
  {
   "cell_type": "code",
   "execution_count": 49,
   "metadata": {},
   "outputs": [],
   "source": [
    "previous_messages = []"
   ]
  },
  {
   "cell_type": "code",
   "execution_count": 53,
   "metadata": {},
   "outputs": [
    {
     "name": "stdout",
     "output_type": "stream",
     "text": [
      "{\"reply\":\"I see. It’s common for social media use to take up a lot of time, and it can sometimes feel difficult to control. This might also impact responsibilities, relationships, or even sleep. Would you like to work on a plan to gradually reduce this usage and regain control over your time?\",\"recovery_plan\":[]}\n"
     ]
    }
   ],
   "source": [
    "message = input(\">>> \")\n",
    "\n",
    "result = get_response(message, previous_messages) \n",
    "print(result.content)\n",
    "\n",
    "previous_messages.append({\"role\":\"user\", \"content\" : message})\n",
    "previous_messages.append({\"role\":\"system\", \"content\":result.content})"
   ]
  },
  {
   "cell_type": "code",
   "execution_count": 51,
   "metadata": {},
   "outputs": [
    {
     "name": "stdout",
     "output_type": "stream",
     "text": [
      "[{'role': 'user', 'content': 'hi'}, {'role': 'system', 'content': '{\"reply\":\"Hello! How can I assist you today? Are you facing any challenges or want to discuss something specific regarding your mental well-being?\",\"recovery_plan\":[]}'}]\n"
     ]
    }
   ],
   "source": [
    "print(previous_messages)"
   ]
  }
 ],
 "metadata": {
  "kernelspec": {
   "display_name": "env",
   "language": "python",
   "name": "python3"
  },
  "language_info": {
   "codemirror_mode": {
    "name": "ipython",
    "version": 3
   },
   "file_extension": ".py",
   "mimetype": "text/x-python",
   "name": "python",
   "nbconvert_exporter": "python",
   "pygments_lexer": "ipython3",
   "version": "3.13.0"
  }
 },
 "nbformat": 4,
 "nbformat_minor": 2
}
